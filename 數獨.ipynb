{
 "cells": [
  {
   "cell_type": "code",
   "execution_count": 1,
   "id": "worse-dover",
   "metadata": {},
   "outputs": [
    {
     "name": "stdout",
     "output_type": "stream",
     "text": [
      "0,0 0,1 2,0 3,0 1,0\n",
      "0,2 1,1 1,2 2,1 2,2\n",
      "0,3 0,4 1,3 1,4 2,3\n",
      "2,4 3,3 3,2 3,4 3,1\n",
      "4,0 4,1 4,4 4,2 4,3\n",
      "[[0, 0], [0, 1], [2, 0], [3, 0], [1, 0]]\n",
      "[[0, 2], [1, 1], [1, 2], [2, 1], [2, 2]]\n",
      "[[0, 3], [0, 4], [1, 3], [1, 4], [2, 3]]\n",
      "[[2, 4], [3, 3], [3, 2], [3, 4], [3, 1]]\n",
      "[[4, 0], [4, 1], [4, 4], [4, 2], [4, 3]]\n"
     ]
    }
   ],
   "source": [
    "a1 = [x.split(',') for x in input().split( )]\n",
    "a2 = [x.split(',') for x in input().split( )]\n",
    "a3 = [x.split(',') for x in input().split( )]\n",
    "a4 = [x.split(',') for x in input().split( )]\n",
    "a5 = [x.split(',') for x in input().split( )]\n",
    "\n",
    "#轉成數字\n",
    "for k in (a1,a2,a3,a4,a5):   \n",
    "    for i in range(5):\n",
    "        for j in range(2):\n",
    "            k[i][j] = int(k[i][j])\n",
    "\n",
    "print(a1)\n",
    "print(a2)\n",
    "print(a3)\n",
    "print(a4)\n",
    "print(a5)"
   ]
  },
  {
   "cell_type": "code",
   "execution_count": 13,
   "id": "satisfactory-timber",
   "metadata": {},
   "outputs": [
    {
     "data": {
      "text/plain": [
       "[0,\n",
       " 1,\n",
       " 10,\n",
       " 15,\n",
       " 5,\n",
       " 2,\n",
       " 6,\n",
       " 7,\n",
       " 11,\n",
       " 12,\n",
       " 3,\n",
       " 4,\n",
       " 8,\n",
       " 9,\n",
       " 13,\n",
       " 14,\n",
       " 18,\n",
       " 17,\n",
       " 19,\n",
       " 16,\n",
       " 20,\n",
       " 21,\n",
       " 24,\n",
       " 22,\n",
       " 23]"
      ]
     },
     "execution_count": 13,
     "metadata": {},
     "output_type": "execute_result"
    }
   ],
   "source": [
    "# 將座標轉換為順序\n",
    "b = []\n",
    "for x in (a1,a2,a3,a4,a5):\n",
    "    for i in range(5):\n",
    "        b.append(x[i][0]*5+x[i][1])\n",
    "    #b.append(bi)\n",
    "b"
   ]
  },
  {
   "cell_type": "code",
   "execution_count": 21,
   "id": "addressed-helping",
   "metadata": {},
   "outputs": [
    {
     "data": {
      "text/plain": [
       "[0, 0, 0, 0, 0, 0, 0, 0, 0, 0, 0, 0, 0, 0, 0, 0, 0, 0, 0, 0, 0, 0, 0, 0, 0]"
      ]
     },
     "execution_count": 21,
     "metadata": {},
     "output_type": "execute_result"
    }
   ],
   "source": [
    "space = [0]*25\n",
    "space"
   ]
  },
  {
   "cell_type": "code",
   "execution_count": 22,
   "id": "closed-alignment",
   "metadata": {},
   "outputs": [
    {
     "name": "stdout",
     "output_type": "stream",
     "text": [
      "0,1 1\n",
      "0,3 5\n",
      "1,2 5\n",
      "3,2 2\n",
      "4,1 4\n",
      "4,3 2\n",
      "\n",
      "[0, '1', 0, '5', 0, 0, 0, '5', 0, 0, 0, 0, 0, 0, 0, 0, 0, '2', 0, 0, 0, '4', 0, '2', 0]\n"
     ]
    }
   ],
   "source": [
    "\n",
    "while True:\n",
    "    try: \n",
    "        n = [x.split(',') for x in input().split( )]\n",
    "        n1 = list(map(int, n[0]))\n",
    "        space[n1[0]*5+n1[1]] = n[1][0]\n",
    "    except IndexError:\n",
    "        break\n",
    "print(space)"
   ]
  },
  {
   "cell_type": "code",
   "execution_count": 25,
   "id": "oriental-uruguay",
   "metadata": {},
   "outputs": [],
   "source": [
    "\n",
    "def same_row(i,j): return (i//5 == j//5)\n",
    "def same_col(i,j): return (i-j) % 5 == 0\n",
    "def same_area(i,j): return (b.index(i)//5 == b.index(j)//5)\n",
    "#看定義的區域是否有重複的數字\n",
    "\n",
    "def solveSudoku(board):\n",
    "    ans = []\n",
    "    idx = board.index(0) if 0 in board else -1\n",
    "    if idx == -1: #解完了\n",
    "        return [board]\n",
    "    exclude = {board[j] for j in range(25) if same_row(idx,j) or same_col(idx,j) or same_area(idx,j)}\n",
    "    for m in set('12345')-exclude:\n",
    "        ans += solveSudoku(board[:idx]+[m]+board[idx+1:])\n",
    "    return ans\n",
    "\n",
    "Ans = solveSudoku(space)[0]"
   ]
  },
  {
   "cell_type": "code",
   "execution_count": 29,
   "id": "seven-belarus",
   "metadata": {},
   "outputs": [
    {
     "data": {
      "text/plain": [
       "['3',\n",
       " '1',\n",
       " '4',\n",
       " '5',\n",
       " '2',\n",
       " '2',\n",
       " '3',\n",
       " '5',\n",
       " '4',\n",
       " '1',\n",
       " '5',\n",
       " '2',\n",
       " '1',\n",
       " '3',\n",
       " '4',\n",
       " '4',\n",
       " '5',\n",
       " '2',\n",
       " '1',\n",
       " '3',\n",
       " '1',\n",
       " '4',\n",
       " '3',\n",
       " '2',\n",
       " '5']"
      ]
     },
     "execution_count": 29,
     "metadata": {},
     "output_type": "execute_result"
    }
   ],
   "source": []
  },
  {
   "cell_type": "code",
   "execution_count": 36,
   "id": "historic-series",
   "metadata": {},
   "outputs": [
    {
     "name": "stdout",
     "output_type": "stream",
     "text": [
      "3 1 4 5 2\n",
      "2 3 5 4 1\n",
      "5 2 1 3 4\n",
      "4 5 2 1 3\n",
      "1 4 3 2 5\n"
     ]
    }
   ],
   "source": [
    "for i in range(5):\n",
    "    pr = []\n",
    "    for j in range(5):\n",
    "        pr.append(int(Ans[5*i+j]))\n",
    "    print(*pr, sep = ' ')"
   ]
  },
  {
   "cell_type": "code",
   "execution_count": 90,
   "id": "awful-chess",
   "metadata": {},
   "outputs": [
    {
     "name": "stdout",
     "output_type": "stream",
     "text": [
      "0,0 0,1 2,0 3,0 1,0\n",
      "0,2 1,1 1,2 2,1 2,2\n",
      "0,3 0,4 1,3 1,4 2,3\n",
      "2,4 3,3 3,2 3,4 3,1\n",
      "4,0 4,1 4,4 4,2 4,3\n",
      "0,1 1\n",
      "0,3 5\n",
      "1,2 5\n",
      "3,2 2\n",
      "4,1 4\n",
      "4,3 2\n",
      "\n",
      "3 1 4 5 2\n",
      "2 3 5 4 1\n",
      "5 2 1 3 4\n",
      "4 5 2 1 3\n",
      "1 4 3 2 5\n"
     ]
    }
   ],
   "source": [
    "# RE\n",
    "# 修改版\n",
    "# 定義函式\n",
    "def same_row(i,j): return (i//5 == j//5) #看是否為同列\n",
    "def same_col(i,j): return (i-j) % 5 == 0 #看是否為同行\n",
    "def same_area(i,j): return (b.index(i)//5 == b.index(j)//5) #看定義的區域是否有重複的數字\n",
    "\n",
    "def solveSudoku(board):\n",
    "    ans = []\n",
    "    idx = board.index(0) if 0 in board else -1 # board哪裡有空格存在idx\n",
    "    if idx == -1: #解完了就結束\n",
    "        return board\n",
    "    # 把前三個定義的條件拿來找同行、同列、同區的 set ，可自動找到還可以填哪個數字\n",
    "    exclude = {board[j] for j in range(25) if same_row(idx,j) or same_col(idx,j) or same_area(idx,j)}\n",
    "    for m in set('12345')-exclude:\n",
    "        ans += solveSudoku(board[:idx]+[m]+board[idx+1:]) #遞迴\n",
    "    return ans \n",
    "\n",
    "\n",
    "# 定義區塊\n",
    "a1 = [x.split(',') for x in input().split( )]\n",
    "a2 = [x.split(',') for x in input().split( )]\n",
    "a3 = [x.split(',') for x in input().split( )]\n",
    "a4 = [x.split(',') for x in input().split( )]\n",
    "a5 = [x.split(',') for x in input().split( )]\n",
    "\n",
    "#轉成數字\n",
    "for k in (a1,a2,a3,a4,a5):   \n",
    "    for i in range(5):\n",
    "        for j in range(2):\n",
    "            k[i][j] = int(k[i][j])\n",
    "            \n",
    "# 將區塊座標轉換為 25 elements 的 list\n",
    "b = []\n",
    "for x in (a1,a2,a3,a4,a5):\n",
    "    for i in range(5):\n",
    "        b.append(x[i][0]*5+x[i][1])\n",
    "\n",
    "# 創空白 list\n",
    "space = [0]*25\n",
    "# 放入題目\n",
    "while True:\n",
    "    try: \n",
    "        n = [x.split(',') for x in input().split( )]\n",
    "        n1 = list(map(int, n[0]))\n",
    "        space[n1[0]*5+n1[1]] = n[1][0]\n",
    "    except:\n",
    "        break\n",
    "\n",
    "# 解題\n",
    "Ans = solveSudoku(space)\n",
    "# 列印\n",
    "if len(Ans) == 25:\n",
    "    for i in range(5):\n",
    "        pr = []\n",
    "        for j in range(5):\n",
    "            pr.append(Ans[5*i+j])\n",
    "        print(*pr, sep = ' ')   \n",
    "else:\n",
    "    print('no solution!')"
   ]
  },
  {
   "cell_type": "code",
   "execution_count": 85,
   "id": "pressed-warrant",
   "metadata": {},
   "outputs": [
    {
     "name": "stdout",
     "output_type": "stream",
     "text": [
      "0,1 1\n",
      "0,3 5\n",
      "\n"
     ]
    }
   ],
   "source": [
    "# 創空白 list\n",
    "space = [0]*25\n",
    "# 放入題目\n",
    "while True:\n",
    "    try: \n",
    "        n = [x.split(',') for x in input().split( )]\n",
    "        n1 = list(map(int, n[0]))\n",
    "        space[n1[0]*5+n1[1]] = n[1][0]\n",
    "    except:\n",
    "        break"
   ]
  },
  {
   "cell_type": "code",
   "execution_count": 57,
   "id": "medieval-bolivia",
   "metadata": {},
   "outputs": [
    {
     "data": {
      "text/plain": [
       "0"
      ]
     },
     "execution_count": 57,
     "metadata": {},
     "output_type": "execute_result"
    }
   ],
   "source": [
    "space.index(0)"
   ]
  },
  {
   "cell_type": "code",
   "execution_count": 84,
   "id": "alone-insurance",
   "metadata": {},
   "outputs": [
    {
     "name": "stdout",
     "output_type": "stream",
     "text": [
      "[0, '1', 0, '5', 0, 0, 0, '5', 0, 0, 0, 0, 0, 0, 0, 0, 0, '2', 0, 0, 0, '4', 0, '2', 0]\n",
      "['3', '1', '4', '5', '2', '2', '3', '5', '4', '1', '5', '2', '1', '3', '4', '4', '5', '2', '1', '3', '1', '4', '3', '2', '5']\n"
     ]
    },
    {
     "data": {
      "text/plain": [
       "25"
      ]
     },
     "execution_count": 84,
     "metadata": {},
     "output_type": "execute_result"
    }
   ],
   "source": [
    "def same_row(i,j): return (i//5 == j//5) #看是否為同列\n",
    "def same_col(i,j): return (i-j) % 5 == 0 #看是否為同行\n",
    "def same_area(i,j): return (b.index(i)//5 == b.index(j)//5) #看定義的區域是否有重複的數字\n",
    "print(space)\n",
    "def solveSudoku(board):\n",
    "    \n",
    "    idx = board.index(0) if 0 in board else -1 # board哪裡有空格\n",
    "    if idx == -1: #解完了就結束\n",
    "        print(board)\n",
    "        return board\n",
    "    else:\n",
    "        # 把前三個定義的條件拿來找同行、同列、同區的 set ，可自動找到還可以填哪個數字\n",
    "        ans = []\n",
    "        exclude = {board[j] for j in range(25) if same_row(idx,j) or same_col(idx,j) or same_area(idx,j)}\n",
    "        for m in set('12345')-exclude:\n",
    "            ans += solveSudoku(board[:idx]+[m]+board[idx+1:]) #遞迴\n",
    "        return ans\n",
    "\n",
    "# 解題\n",
    "len(solveSudoku(space))\n"
   ]
  },
  {
   "cell_type": "code",
   "execution_count": 51,
   "id": "civilian-carolina",
   "metadata": {},
   "outputs": [
    {
     "data": {
      "text/plain": [
       "['5',\n",
       " '2',\n",
       " '1',\n",
       " 2,\n",
       " '3',\n",
       " '4',\n",
       " '3',\n",
       " '4',\n",
       " '5',\n",
       " '1',\n",
       " '2',\n",
       " '4',\n",
       " '5',\n",
       " '3',\n",
       " '2',\n",
       " '1',\n",
       " '2',\n",
       " '1',\n",
       " '4',\n",
       " '5',\n",
       " '3',\n",
       " '1',\n",
       " '3',\n",
       " '2',\n",
       " '4',\n",
       " '5']"
      ]
     },
     "execution_count": 51,
     "metadata": {},
     "output_type": "execute_result"
    }
   ],
   "source": [
    "# 列印\n",
    "if Ans == []:\n",
    "    print('no solution!')\n",
    "else:\n",
    "    Ans = Ans[0]\n",
    "    for i in range(5):\n",
    "        pr = []\n",
    "        for j in range(5):\n",
    "            pr.append(int(Ans[5*i+j]))\n",
    "        print(*pr, sep = ' ')"
   ]
  },
  {
   "cell_type": "code",
   "execution_count": null,
   "id": "entertaining-hunger",
   "metadata": {},
   "outputs": [],
   "source": [
    "#RE版\n",
    "# 定義區塊\n",
    "a1 = [x.split(',') for x in input().split( )]\n",
    "a2 = [x.split(',') for x in input().split( )]\n",
    "a3 = [x.split(',') for x in input().split( )]\n",
    "a4 = [x.split(',') for x in input().split( )]\n",
    "a5 = [x.split(',') for x in input().split( )]\n",
    "\n",
    "#轉成數字\n",
    "for k in (a1,a2,a3,a4,a5):   \n",
    "    for i in range(5):\n",
    "        for j in range(2):\n",
    "            k[i][j] = int(k[i][j])\n",
    "            \n",
    "# 將區塊座標轉換為 25 elements 的 list\n",
    "b = []\n",
    "for x in (a1,a2,a3,a4,a5):\n",
    "    for i in range(5):\n",
    "        b.append(x[i][0]*5+x[i][1])\n",
    "\n",
    "# 創空白 list\n",
    "space = [0]*25\n",
    "# 放入題目\n",
    "while True:\n",
    "    try: \n",
    "        n = [x.split(',') for x in input().split( )]\n",
    "        n1 = list(map(int, n[0]))\n",
    "        space[n1[0]*5+n1[1]] = n[1][0]\n",
    "    except IndexError:\n",
    "        break\n",
    "          \n",
    "# 定義函式\n",
    "def same_row(i,j): return (i//5 == j//5) #看是否為同列\n",
    "def same_col(i,j): return (i-j) % 5 == 0 #看是否為同行\n",
    "def same_area(i,j): return (b.index(i)//5 == b.index(j)//5) #看定義的區域是否有重複的數字\n",
    "\n",
    "def solveSudoku(board):\n",
    "    ans = []\n",
    "    idx = board.index(0) if 0 in board else -1 # board哪裡有空格存在idx\n",
    "    if idx == -1: #解完了就結束\n",
    "        return [board]\n",
    "    # 把前三個定義的條件拿來找同行、同列、同區的 set ，可自動找到還可以填哪個數字\n",
    "    exclude = {board[j] for j in range(25) if same_row(idx,j) or same_col(idx,j) or same_area(idx,j)}\n",
    "    for m in set('12345')-exclude:\n",
    "        ans += solveSudoku(board[:idx]+[m]+board[idx+1:]) #遞迴\n",
    "    return ans  \n",
    "    \n",
    "# 解題\n",
    "Ans = solveSudoku(space)\n",
    "# 列印\n",
    "if Ans == []:\n",
    "    print('no solution!')\n",
    "elif len(Ans)!=25:\n",
    "    print('no solution!')                        \n",
    "else:\n",
    "    Ans = Ans[0]\n",
    "    for i in range(5):\n",
    "        pr = []\n",
    "        for j in range(5):\n",
    "            pr.append(int(Ans[5*i+j]))\n",
    "        print(*pr, sep = ' ')"
   ]
  }
 ],
 "metadata": {
  "kernelspec": {
   "display_name": "Python 3",
   "language": "python",
   "name": "python3"
  },
  "language_info": {
   "codemirror_mode": {
    "name": "ipython",
    "version": 3
   },
   "file_extension": ".py",
   "mimetype": "text/x-python",
   "name": "python",
   "nbconvert_exporter": "python",
   "pygments_lexer": "ipython3",
   "version": "3.9.2"
  }
 },
 "nbformat": 4,
 "nbformat_minor": 5
}
